{
 "cells": [
  {
   "cell_type": "code",
   "execution_count": 1,
   "metadata": {},
   "outputs": [],
   "source": [
    "import plotly.graph_objects as go\n",
    "\n",
    "# Create a simple scatter plot\n",
    "fig = go.Figure(data=go.Scatter(x=[1, 2, 3, 4], y=[10, 11, 12, 13], mode='markers'))\n",
    "\n",
    "# Generate the HTML for the plot\n",
    "fig_html = fig.to_html(include_plotlyjs='cdn')\n",
    "\n",
    "# Save the HTML to the notebooks/project1/ directory\n",
    "\n",
    "with open(\"project1_visualization.html\", \"w\") as f:\n",
    "    f.write(fig_html)"
   ]
  },
  {
   "cell_type": "code",
   "execution_count": 8,
   "metadata": {},
   "outputs": [],
   "source": [
    "import plotly.graph_objects as go\n",
    "\n",
    "# Create a bar chart\n",
    "bar_fig = go.Figure(data=[\n",
    "    go.Bar(name='Category A', x=['Q1', 'Q2', 'Q3', 'Q4'], y=[20, 14, 23, 25]),\n",
    "    go.Bar(name='Category B', x=['Q1', 'Q2', 'Q3', 'Q4'], y=[19, 13, 24, 27])\n",
    "])\n",
    "\n",
    "# Change the bar mode\n",
    "bar_fig.update_layout(barmode='group', title='Quarterly Sales by Category')\n",
    "\n",
    "# Generate the HTML for the bar chart\n",
    "bar_fig_html = bar_fig.to_html(include_plotlyjs='cdn')\n",
    "\n",
    "# Save the HTML to the current directory\n",
    "with open(\"project1_bar_chart.html\", \"w\") as f:\n",
    "    f.write(bar_fig_html)"
   ]
  }
 ],
 "metadata": {
  "kernelspec": {
   "display_name": "Python 3",
   "language": "python",
   "name": "python3"
  },
  "language_info": {
   "codemirror_mode": {
    "name": "ipython",
    "version": 3
   },
   "file_extension": ".py",
   "mimetype": "text/x-python",
   "name": "python",
   "nbconvert_exporter": "python",
   "pygments_lexer": "ipython3",
   "version": "3.12.5"
  }
 },
 "nbformat": 4,
 "nbformat_minor": 2
}
